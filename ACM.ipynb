{
  "nbformat": 4,
  "nbformat_minor": 0,
  "metadata": {
    "colab": {
      "provenance": []
    },
    "kernelspec": {
      "name": "ir",
      "display_name": "R"
    },
    "language_info": {
      "name": "R"
    }
  },
  "cells": [
    {
      "cell_type": "markdown",
      "source": [
        "# **DISCLAIMER/AVISO**\n",
        "\n",
        "O script a seguir foi obtido através do Doutorando Francesco Tomei e foi oferecido pelo minicurso \"Métodos quantitativos de análise com foco na Análise de Correspondências Múltiplas (ACM)\" dado por ele e a Doutoranda Mariana Cardozo Batista de Oliveira. Portanto, que fique claro que esse script não foi escrito por nenhum membro desse grupo."
      ],
      "metadata": {
        "id": "UVR8_12LyjqB"
      }
    },
    {
      "cell_type": "markdown",
      "source": [
        "# **(1) Instalar as bibliotecas**"
      ],
      "metadata": {
        "id": "GsqR3Ci8zC1K"
      }
    },
    {
      "cell_type": "code",
      "source": [
        "install.packages(\"factoextra\")\n",
        "install.packages(\"FactoMineR\")\n",
        "install.packages(\"GDAtools\")\n",
        "install.packages(\"frequency\")\n",
        "install.packages(\"explor\")\n",
        "install.packages(\"dplyr\")\n",
        "install.packages(\"ggrepel\")"
      ],
      "metadata": {
        "id": "M98wxHQox9Lz"
      },
      "execution_count": null,
      "outputs": []
    },
    {
      "cell_type": "markdown",
      "source": [
        "# **(2) Ligando os pacotes**"
      ],
      "metadata": {
        "id": "sPrHC4ItzJgF"
      }
    },
    {
      "cell_type": "code",
      "source": [
        "options(encoding = \"UTF8\")\n",
        "options(max.print=100000)\n",
        "library(factoextra)\n",
        "library(FactoMineR)\n",
        "library(explor)\n",
        "library(GDAtools)\n",
        "library(frequency)\n",
        "library(ggrepel)\n",
        "library(readxl)"
      ],
      "metadata": {
        "id": "jofHo_s6ytV3"
      },
      "execution_count": null,
      "outputs": []
    },
    {
      "cell_type": "markdown",
      "source": [
        "# **(3) Baixando a base de dados**"
      ],
      "metadata": {
        "id": "2CgqUw-3zPYq"
      }
    },
    {
      "cell_type": "code",
      "source": [
        "Banco_ACM_vF <- read_excel(\"Banco_ACM_vF.xlsx\")\n",
        "View(Banco_ACM_vF)\n",
        "\n",
        "base_laps <- Banco_ACM_vF"
      ],
      "metadata": {
        "id": "9UuLTyHlzfw9"
      },
      "execution_count": null,
      "outputs": []
    },
    {
      "cell_type": "markdown",
      "source": [
        "# **(4) Visualização dos resultados**"
      ],
      "metadata": {
        "id": "QzcBJPCq0nvC"
      }
    },
    {
      "cell_type": "code",
      "source": [
        "ACM1 <- MCA(base_laps[1:29], ncp = 10,\n",
        "            quali.sup = c(11:29))\n",
        "\n",
        "explor(ACM1)"
      ],
      "metadata": {
        "id": "NfJ9Rt4l094a"
      },
      "execution_count": null,
      "outputs": []
    },
    {
      "cell_type": "markdown",
      "source": [
        "# **(5) Ilustrando as contribuição dos eixos**"
      ],
      "metadata": {
        "id": "5r12xbfVs1UU"
      }
    },
    {
      "cell_type": "code",
      "source": [
        "fviz_contrib(ACM1, choice = c(\"var\"), axes = 1, sortcontrib= c(\"desc\")) # Eixo 1\n",
        "fviz_contrib(ACM1, choice = c(\"var\"), axes = 2, sortcontrib= c(\"desc\")) # Eixo 2"
      ],
      "metadata": {
        "id": "6ddwJx7a2DdB"
      },
      "execution_count": null,
      "outputs": []
    },
    {
      "cell_type": "markdown",
      "source": [
        "# **(6) Representando a nuvem das modalidades ativas**"
      ],
      "metadata": {
        "id": "_0HxmYP22S93"
      }
    },
    {
      "cell_type": "code",
      "source": [
        "grafico <- fviz_mca_var(ACM1,\n",
        "                        axes = c(1, 2),                                            # Exibe os 2 primeiros eixos\n",
        "                        xlim = NULL,                                               # Limites do eixo X ajustados automaticamente\n",
        "                        ylim = NULL,                                               # Limites do eixo Y ajustados automaticamente\n",
        "                        xlab = \"Eixo 1 (22,3%)\",                                   # Rótulo do eixo X\n",
        "                        ylab = \"Eixo 2 (20,4%)\",                                   # Rótulo do eixo Y\n",
        "                        font.lab = c(22, \"italic\"),                                # Estilo dos rótulos\n",
        "                        col.var = \"contrib\",                                       # Cor das variáveis por contribuição\n",
        "                        repel = TRUE,                                              # Evita sobreposição de rótulos\n",
        "                        label = \"all\",                                             # Exibe todos os rótulos\n",
        "                        select.var = list(name = NULL, cos2 = NULL, contrib = 20)) # Filtro por contribuição maior que 20\n",
        "\n",
        "grafico + ggtitle(\"Nuvem das modalidades ativas\") +          # Adiciona um título ao gráfico\n",
        "  theme(plot.title = element_text(size = 22, face = \"bold\")) # Personaliza o estilo do título"
      ],
      "metadata": {
        "id": "8-GOzoyXtHN8"
      },
      "execution_count": null,
      "outputs": []
    },
    {
      "cell_type": "markdown",
      "source": [
        "# **(7) Representando a nuvem dos indivíduos**"
      ],
      "metadata": {
        "id": "cotEfXhDwiQt"
      }
    },
    {
      "cell_type": "code",
      "source": [
        "grafico_2 <- fviz_mca_ind(ACM1,\n",
        "                  label = \"none\",             # Não exibe nenhum rótulo\n",
        "                  xlab = \"Eixo 1 (22,3%)\",    # Rótulo do eixo X\n",
        "                  ylab = \"Eixo 2 (20,4%)\",    # Rótulo do eixo Y\n",
        "                  font.lab = c(22, \"italic\"), # Estilo dos rótulos\n",
        "                  habillage = \"none\")         # Nenhuma diferenciação visual é feita\n",
        "\n",
        "grafico_2 + ggtitle(\"Nuvem dos agentes\") +                               # Adiciona um título ao gráfico\n",
        "  theme(plot.title = element_text(size = 22, face = \"bold\")) +           # Evita sobreposição de rótulos\n",
        "  geom_text_repel(aes(label = base_laps$ID), vjust = -1, color = \"blue\") # Personaliza o estilo do título"
      ],
      "metadata": {
        "id": "ULVbrvG6ww_g"
      },
      "execution_count": null,
      "outputs": []
    },
    {
      "cell_type": "markdown",
      "source": [
        "# **(8) Resultados da ACM**"
      ],
      "metadata": {
        "id": "NgiCLpHryjnP"
      }
    },
    {
      "cell_type": "code",
      "source": [
        "grafico_3 <- fviz_mca_var(ACM1,\n",
        "             choice = \"var.cat\",          # Seleção das variáveis categóricas\n",
        "             repel = TRUE,                # Evita sobreposição de rótulos\n",
        "             xlab = \"Eixo 1 (22,3%)\",     # Rótulo do eixo X\n",
        "             ylab = \"Eixo 2 (20,4%)\",     # Rótulo do eixo Y\n",
        "             font.lab = c(22, \"italic\"),  # Estilo dos rótulos\n",
        "             col.var = \"darkblue\",        # Cor das variáveis ativas\n",
        "             col.quali.sup = \"lightblue\") # Cor das variáveis suplementares\n",
        "\n",
        "grafico_3 + ggtitle(\"Resultados da ACM\") +                   # Adiciona um título ao gráfico\n",
        "  theme(plot.title = element_text(size = 22, face = \"bold\")) # Personaliza o estilo do título"
      ],
      "metadata": {
        "id": "nLBaA7ESy7jp"
      },
      "execution_count": null,
      "outputs": []
    }
  ]
}
