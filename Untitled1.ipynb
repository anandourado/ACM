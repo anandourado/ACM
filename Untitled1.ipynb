{
  "nbformat": 4,
  "nbformat_minor": 0,
  "metadata": {
    "colab": {
      "provenance": []
    },
    "kernelspec": {
      "name": "ir",
      "display_name": "R"
    },
    "language_info": {
      "name": "R"
    }
  },
  "cells": [
    {
      "cell_type": "markdown",
      "source": [
        "# **DISCLAIMER/AVISO**\n",
        "\n",
        "O script a seguir foi obtido através do Doutorando Francesco Tomei e foi oferecido pelo minicurso \"Métodos quantitativos de análise com foco na Análise de Correspondências Múltiplas (ACM)\" dado por ele e a Doutoranda Mariana Cardozo Batista de Oliveira. Portanto, que fique claro que esse script não foi escrito por nenhum membro desse grupo."
      ],
      "metadata": {
        "id": "UVR8_12LyjqB"
      }
    },
    {
      "cell_type": "markdown",
      "source": [
        "# **(1) Instalar as bibliotecas**"
      ],
      "metadata": {
        "id": "GsqR3Ci8zC1K"
      }
    },
    {
      "cell_type": "code",
      "source": [
        "install.packages(\"factoextra\")\n",
        "install.packages(\"FactoMineR\")\n",
        "install.packages(\"GDAtools\")\n",
        "install.packages(\"frequency\")\n",
        "install.packages(\"explor\")\n",
        "install.packages(\"dplyr\")"
      ],
      "metadata": {
        "id": "M98wxHQox9Lz"
      },
      "execution_count": null,
      "outputs": []
    },
    {
      "cell_type": "markdown",
      "source": [
        "# **(2) Ligando os pacotes**"
      ],
      "metadata": {
        "id": "sPrHC4ItzJgF"
      }
    },
    {
      "cell_type": "code",
      "source": [
        "options(encoding = \"UTF8\")\n",
        "options(max.print=100000)\n",
        "library(factoextra)\n",
        "library(FactoMineR)\n",
        "library(explor)\n",
        "library(GDAtools)\n",
        "library(frequency)\n",
        "library(readxl)"
      ],
      "metadata": {
        "id": "jofHo_s6ytV3"
      },
      "execution_count": null,
      "outputs": []
    },
    {
      "cell_type": "markdown",
      "source": [
        "# **(3) Baixando a base de dados**"
      ],
      "metadata": {
        "id": "2CgqUw-3zPYq"
      }
    },
    {
      "cell_type": "code",
      "source": [
        "Banco_ACM_vF <- read_excel(\"Banco_ACM_vF.xlsx\")\n",
        "View(Banco_ACM_vF)\n",
        "\n",
        "base_laps <- Banco_ACM_vF"
      ],
      "metadata": {
        "id": "9UuLTyHlzfw9"
      },
      "execution_count": null,
      "outputs": []
    },
    {
      "cell_type": "markdown",
      "source": [
        "# **(4) Visualização dos resultados**"
      ],
      "metadata": {
        "id": "QzcBJPCq0nvC"
      }
    },
    {
      "cell_type": "code",
      "source": [
        "ACM1 <- MCA(base_laps[1:29], ncp = 10,\n",
        "            quali.sup = c(11:29))\n",
        "\n",
        "explor(ACM1)"
      ],
      "metadata": {
        "id": "NfJ9Rt4l094a"
      },
      "execution_count": null,
      "outputs": []
    },
    {
      "cell_type": "markdown",
      "source": [
        "# **(5) Ilustrando as contribuição dos eixos**"
      ],
      "metadata": {
        "id": "_0HxmYP22S93"
      }
    },
    {
      "cell_type": "code",
      "source": [
        "fviz_contrib(ACM1, choice = c(\"var\"), axes = 1, sortcontrib= c(\"desc\"))\n",
        "\n",
        "fviz_contrib(ACM1, choice = c(\"var\"), axes = 2, sortcontrib= c(\"desc\"))"
      ],
      "metadata": {
        "id": "6ddwJx7a2DdB"
      },
      "execution_count": null,
      "outputs": []
    }
  ]
}